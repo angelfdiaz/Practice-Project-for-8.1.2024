{
 "cells": [
  {
   "cell_type": "code",
   "execution_count": 10,
   "id": "ccc54479",
   "metadata": {},
   "outputs": [],
   "source": [
    "import pandas as pd \n"
   ]
  },
  {
   "cell_type": "code",
   "execution_count": 7,
   "id": "c9e91e6b",
   "metadata": {},
   "outputs": [],
   "source": [
    "df1 = pd.DataFrame({\"Product ID\": [1,2,3,4], \"Product Name\": [\"t-shirt\", \"t-shirt\", \"skirt\", \"skirt\"], \"Color\":\\\n",
    "                    [\"Blue\",\"Green\", \"Red\", \"Black\" ]}).to_string(index=False)\n",
    "\n",
    "# df1.set_index('Product ID', inplace=True)\n",
    "\n",
    "\n",
    "#df1 = df1.style.hide_index()\n"
   ]
  },
  {
   "cell_type": "code",
   "execution_count": 9,
   "id": "f059ea04",
   "metadata": {},
   "outputs": [
    {
     "name": "stdout",
     "output_type": "stream",
     "text": [
      " Product ID Product Name Color\n",
      "          1      t-shirt  Blue\n",
      "          2      t-shirt Green\n",
      "          3        skirt   Red\n",
      "          4        skirt Black\n"
     ]
    }
   ],
   "source": [
    "print(df1)"
   ]
  },
  {
   "cell_type": "code",
   "execution_count": 11,
   "id": "82e945f1",
   "metadata": {},
   "outputs": [
    {
     "name": "stdout",
     "output_type": "stream",
     "text": [
      "Albert Einstein once said 'A person who never made a mistake never tried anything new'\n"
     ]
    }
   ],
   "source": [
    "quote = \"Albert Einstein once said 'A person who never made a mistake never tried anything new'\"\n",
    "\n",
    "print(quote)"
   ]
  },
  {
   "cell_type": "code",
   "execution_count": 13,
   "id": "c7093a9c",
   "metadata": {},
   "outputs": [
    {
     "name": "stdout",
     "output_type": "stream",
     "text": [
      "Albert Einstein once said 'A person who never made a mistake never tried anything new'\n"
     ]
    }
   ],
   "source": [
    "famous_person = \"Albert Einstein\"\n",
    "\n",
    "famous_person_1 = f\"{famous_person} once said 'A person who never made a mistake never tried anything new'\"\n",
    "\n",
    "print(famous_person_1)"
   ]
  },
  {
   "cell_type": "code",
   "execution_count": 14,
   "id": "d2cd0b52",
   "metadata": {},
   "outputs": [
    {
     "name": "stdout",
     "output_type": "stream",
     "text": [
      "specialized\n"
     ]
    }
   ],
   "source": [
    "bicycles = ['trek', 'cannondale', 'redline', 'specialized']\n",
    "\n",
    "print(bicycles[-1])"
   ]
  },
  {
   "cell_type": "code",
   "execution_count": 15,
   "id": "ad462bee",
   "metadata": {},
   "outputs": [
    {
     "name": "stdout",
     "output_type": "stream",
     "text": [
      "Alice, that was a great trick!\n",
      "David, that was a great trick!\n",
      "Carolina, that was a great trick!\n"
     ]
    }
   ],
   "source": [
    "magicians = ['alice', 'david', 'carolina']\n",
    "\n",
    "for magician in magicians:\n",
    "    print(f\"{magician.title()}, that was a great trick!\")\n",
    "    "
   ]
  },
  {
   "cell_type": "code",
   "execution_count": 21,
   "id": "1c1c7f81",
   "metadata": {},
   "outputs": [
    {
     "name": "stdout",
     "output_type": "stream",
     "text": [
      "   OrderNo            Date  Empno\n",
      "0  9423517  2022 - 02 - 04   9001\n",
      "1  4626232  2022 - 02 - 04   9003\n",
      "2  9423534  2002 - 02 - 04   9001\n",
      "3  9423679  2002 - 02 - 05   9002\n",
      "4  4626377  2022 - 02 - 05   9003\n",
      "5  4626412  2022 - 02 - 05   9004\n",
      "6  9423783  2022 - 02 - 06   9002\n",
      "7  4626490  2022 - 02 - 06   9004\n"
     ]
    }
   ],
   "source": [
    "orders = [(9423517, '2022 - 02 - 04', 9001),\n",
    "         (4626232, '2022 - 02 - 04', 9003),\n",
    "         (9423534, '2002 - 02 - 04', 9001),\n",
    "         (9423679, '2002 - 02 - 05', 9002),\n",
    "         (4626377, '2022 - 02 - 05', 9003),\n",
    "         (4626412, '2022 - 02 - 05', 9004),\n",
    "         (9423783, '2022 - 02 - 06', 9002),\n",
    "         (4626490, '2022 - 02 - 06', 9004)]\n",
    "\n",
    "df_orders = pd.DataFrame(orders, columns = ['OrderNo', 'Date', 'Empno'])\n",
    "\n",
    "print(df_orders)\n",
    "\n",
    "#how to delete the index number "
   ]
  },
  {
   "cell_type": "code",
   "execution_count": 23,
   "id": "00fdccd9",
   "metadata": {},
   "outputs": [
    {
     "name": "stdout",
     "output_type": "stream",
     "text": [
      "    OrderNo          Item           Brand  Price  Quantity\n",
      "0   9423517         Jeans        Rip Curl   87.0         1\n",
      "1   9423517        Jacket  The North Face  112.0         1\n",
      "2   4626232         Socks            Vans   15.0         1\n",
      "3   4626232         Jeans      Quiksilver   82.0         1\n",
      "4   9423534         Socks              DC   10.0         2\n",
      "5   9423534         Socks     Quicksilver   12.0         2\n",
      "6   9423679       T-Shirt       Patagonia   35.0         1\n",
      "7   4626377         Hoody          Animal   44.0         1\n",
      "8   4626377  Cargo Shorts          Animal   38.0         1\n",
      "9   4626412         Shirt          Volcom   78.0         1\n",
      "10  9423783  Boxer Shorts        Superdry   30.0         2\n",
      "11  9423783        Shorts           Globe   26.0         1\n",
      "12  4626490  Cargo Shorts       Billabong   54.0         1\n",
      "13  4626490       Sweater         Dickies   56.0         1\n"
     ]
    }
   ],
   "source": [
    "details = [(9423517, 'Jeans', 'Rip Curl', 87.0, 1),\n",
    "          (9423517, 'Jacket','The North Face', 112.0, 1),\n",
    "          (4626232, 'Socks', 'Vans', 15.0, 1),\n",
    "          (4626232, 'Jeans', 'Quiksilver', 82.0, 1),\n",
    "          (9423534, 'Socks', 'DC', 10.0, 2),\n",
    "          (9423534, 'Socks', 'Quicksilver', 12.0, 2),\n",
    "          (9423679, 'T-Shirt', 'Patagonia', 35.0, 1),\n",
    "          (4626377, 'Hoody', 'Animal', 44.0, 1),\n",
    "          (4626377, 'Cargo Shorts', 'Animal', 38.0, 1),\n",
    "          (4626412, 'Shirt', 'Volcom', 78.0, 1),\n",
    "          (9423783, 'Boxer Shorts', 'Superdry', 30.0, 2),\n",
    "          (9423783, 'Shorts', 'Globe', 26.0, 1),\n",
    "          (4626490, 'Cargo Shorts', 'Billabong', 54.0, 1),\n",
    "          (4626490, 'Sweater', 'Dickies', 56.0, 1)\n",
    "          ]\n",
    "\n",
    "\n",
    "df_details = pd.DataFrame(details, columns =['OrderNo', 'Item', 'Brand', 'Price', 'Quantity'])\n",
    "\n",
    "print(df_details)"
   ]
  },
  {
   "cell_type": "code",
   "execution_count": 19,
   "id": "98910841",
   "metadata": {},
   "outputs": [],
   "source": [
    "emps = [(9001, 'Jeff Russell', 'LA'),\n",
    "        (9002, 'Jane Boorman', 'San Francisco'),\n",
    "        (9003, 'Tom Heints', 'NYC'),\n",
    "        (9004, 'Maya Silver', 'Philadelphia')\n",
    "       ]"
   ]
  },
  {
   "cell_type": "code",
   "execution_count": 20,
   "id": "8518b982",
   "metadata": {},
   "outputs": [],
   "source": [
    "locations = [('LA', 'West'),\n",
    "            ('San Francisco', 'West'),\n",
    "            ('NYC', 'East'),\n",
    "            ('Philadelphia', 'East')\n",
    "            ]"
   ]
  },
  {
   "cell_type": "code",
   "execution_count": null,
   "id": "c9c21bc2",
   "metadata": {},
   "outputs": [],
   "source": []
  }
 ],
 "metadata": {
  "kernelspec": {
   "display_name": "Python 3 (ipykernel)",
   "language": "python",
   "name": "python3"
  },
  "language_info": {
   "codemirror_mode": {
    "name": "ipython",
    "version": 3
   },
   "file_extension": ".py",
   "mimetype": "text/x-python",
   "name": "python",
   "nbconvert_exporter": "python",
   "pygments_lexer": "ipython3",
   "version": "3.9.7"
  }
 },
 "nbformat": 4,
 "nbformat_minor": 5
}

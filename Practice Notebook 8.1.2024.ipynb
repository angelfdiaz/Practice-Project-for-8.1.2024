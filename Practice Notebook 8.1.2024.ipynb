{
 "cells": [
  {
   "cell_type": "code",
   "execution_count": 4,
   "id": "ccc54479",
   "metadata": {},
   "outputs": [],
   "source": [
    "import pandas as pd \n"
   ]
  },
  {
   "cell_type": "code",
   "execution_count": 61,
   "id": "c9e91e6b",
   "metadata": {},
   "outputs": [],
   "source": [
    "df1 = pd.DataFrame({\"Product ID\": [1,2,3,4], \"Product Name\": [\"t-shirt\", \"t-shirt\", \"skirt\", \"skirt\"], \"Color\":\\\n",
    "                    [\"Blue\",\"Green\", \"Red\", \"Black\" ]}).to_string(index=False)\n",
    "\n",
    "# df1.set_index('Product ID', inplace=True)\n",
    "\n",
    "\n",
    "#df1 = df1.style.hide_index()\n"
   ]
  },
  {
   "cell_type": "code",
   "execution_count": 62,
   "id": "f059ea04",
   "metadata": {},
   "outputs": [
    {
     "name": "stdout",
     "output_type": "stream",
     "text": [
      " Product ID Product Name Color\n",
      "          1      t-shirt  Blue\n",
      "          2      t-shirt Green\n",
      "          3        skirt   Red\n",
      "          4        skirt Black\n"
     ]
    }
   ],
   "source": [
    "print(df1)"
   ]
  }
 ],
 "metadata": {
  "kernelspec": {
   "display_name": "Python 3 (ipykernel)",
   "language": "python",
   "name": "python3"
  },
  "language_info": {
   "codemirror_mode": {
    "name": "ipython",
    "version": 3
   },
   "file_extension": ".py",
   "mimetype": "text/x-python",
   "name": "python",
   "nbconvert_exporter": "python",
   "pygments_lexer": "ipython3",
   "version": "3.9.7"
  }
 },
 "nbformat": 4,
 "nbformat_minor": 5
}
